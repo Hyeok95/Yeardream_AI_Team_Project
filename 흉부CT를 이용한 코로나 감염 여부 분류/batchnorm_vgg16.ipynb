{
  "cells": [
    {
      "cell_type": "markdown",
      "id": "6c50f01a-72fd-4804-9f54-d77b52d3991f",
      "metadata": {
        "id": "6c50f01a-72fd-4804-9f54-d77b52d3991f"
      },
      "source": [
        "# [모의 캐글-의료] 흉부 CT 코로나 감염 여부 분류\n",
        "- 이미지 binary 분류 과제"
      ]
    },
    {
      "cell_type": "markdown",
      "source": [
        "## 우리 팀이 학습한 방법\n",
        "* **순서**\n",
        "1. 기본 베이스라인 코드를 가지고 모델별로 성능을 확인해본다\n",
        "  * CNN, DCNN, AlexNet, VGG, ResNet, EfficientNet...\n",
        "2. 모델별로 돌려보고 하이퍼파라미터 튜닝 및 batch_size, image_size 등 조절\n",
        "3. Data Augumentation을 통해 데이터를 뻥튀기 시켜서 성능이 올라가는 지 확인\n",
        "4. k-fold 및 앙상블을 써서 성능을 향상시키도록 함.\n",
        "  * hard voting, soft voting...\n",
        "\n",
        "* 과적합 방지를 위해 Dropout, BatchNorm, Early Stopping 등을 사용함\n",
        "* **1번과 3번 순서를 바꿔서도 진행해봄**\n",
        "\n",
        "## 내가 한 역할\n",
        "* 기본 베이스라인 코드를 가지고 모델별로 성능을 확인!\n",
        "* 팀원이 진행한 Data Augumentation 코드를 받아서 적용시킨 후 다시 데이터 증식한 단게에서 모델별로 성능을 확인."
      ],
      "metadata": {
        "id": "Xgblfos7OBDt"
      },
      "id": "Xgblfos7OBDt"
    },
    {
      "cell_type": "markdown",
      "id": "f51ba7c1-0393-47ec-89d9-f6f97072773b",
      "metadata": {
        "id": "f51ba7c1-0393-47ec-89d9-f6f97072773b"
      },
      "source": [
        "## Import Libraries"
      ]
    },
    {
      "cell_type": "code",
      "source": [
        "from google.colab import drive\n",
        "drive.mount('/content/drive')"
      ],
      "metadata": {
        "colab": {
          "base_uri": "https://localhost:8080/"
        },
        "id": "fKF6hy6pZ9IC",
        "outputId": "d70bef13-bc1d-4182-c2e8-e6da900c98a9"
      },
      "id": "fKF6hy6pZ9IC",
      "execution_count": 1,
      "outputs": [
        {
          "output_type": "stream",
          "name": "stdout",
          "text": [
            "Mounted at /content/drive\n"
          ]
        }
      ]
    },
    {
      "cell_type": "code",
      "execution_count": 2,
      "id": "e4325d39-6344-4116-b343-df51696905ec",
      "metadata": {
        "tags": [],
        "colab": {
          "base_uri": "https://localhost:8080/"
        },
        "id": "e4325d39-6344-4116-b343-df51696905ec",
        "outputId": "f9edfa13-1c29-405b-9f73-3ff41851c176"
      },
      "outputs": [
        {
          "output_type": "stream",
          "name": "stdout",
          "text": [
            "\r0% [Working]\r            \rGet:1 http://ppa.launchpad.net/c2d4u.team/c2d4u4.0+/ubuntu bionic InRelease [15.9 kB]\n",
            "\r0% [Connecting to archive.ubuntu.com (91.189.91.39)] [Connecting to security.ub\r0% [Connecting to archive.ubuntu.com (91.189.91.39)] [Connecting to security.ub\r                                                                               \rHit:2 http://ppa.launchpad.net/cran/libgit2/ubuntu bionic InRelease\n",
            "\r0% [Connecting to archive.ubuntu.com (91.189.91.39)] [Connecting to security.ub\r0% [1 InRelease gpgv 15.9 kB] [Connecting to archive.ubuntu.com (91.189.91.39)]\r                                                                               \rGet:3 https://cloud.r-project.org/bin/linux/ubuntu bionic-cran40/ InRelease [3,626 B]\n",
            "\r0% [1 InRelease gpgv 15.9 kB] [Connecting to archive.ubuntu.com (91.189.91.39)]\r0% [1 InRelease gpgv 15.9 kB] [Connecting to archive.ubuntu.com (91.189.91.39)]\r                                                                               \rGet:4 http://ppa.launchpad.net/deadsnakes/ppa/ubuntu bionic InRelease [15.9 kB]\n",
            "Get:5 http://ppa.launchpad.net/graphics-drivers/ppa/ubuntu bionic InRelease [21.3 kB]\n",
            "Get:6 http://security.ubuntu.com/ubuntu bionic-security InRelease [88.7 kB]\n",
            "Hit:7 http://archive.ubuntu.com/ubuntu bionic InRelease\n",
            "Ign:8 https://developer.download.nvidia.com/compute/cuda/repos/ubuntu1804/x86_64  InRelease\n",
            "Get:9 http://archive.ubuntu.com/ubuntu bionic-updates InRelease [88.7 kB]\n",
            "Ign:10 https://developer.download.nvidia.com/compute/machine-learning/repos/ubuntu1804/x86_64  InRelease\n",
            "Get:11 https://developer.download.nvidia.com/compute/cuda/repos/ubuntu1804/x86_64  Release [696 B]\n",
            "Hit:12 https://developer.download.nvidia.com/compute/machine-learning/repos/ubuntu1804/x86_64  Release\n",
            "Get:13 https://developer.download.nvidia.com/compute/cuda/repos/ubuntu1804/x86_64  Release.gpg [836 B]\n",
            "Get:14 http://archive.ubuntu.com/ubuntu bionic-backports InRelease [74.6 kB]\n",
            "Get:15 http://ppa.launchpad.net/c2d4u.team/c2d4u4.0+/ubuntu bionic/main Sources [1,826 kB]\n",
            "Get:16 http://ppa.launchpad.net/c2d4u.team/c2d4u4.0+/ubuntu bionic/main amd64 Packages [936 kB]\n",
            "Get:17 http://ppa.launchpad.net/deadsnakes/ppa/ubuntu bionic/main amd64 Packages [45.3 kB]\n",
            "Get:18 http://ppa.launchpad.net/graphics-drivers/ppa/ubuntu bionic/main amd64 Packages [42.8 kB]\n",
            "Get:19 http://security.ubuntu.com/ubuntu bionic-security/multiverse amd64 Packages [21.1 kB]\n",
            "Get:20 http://security.ubuntu.com/ubuntu bionic-security/restricted amd64 Packages [783 kB]\n",
            "Get:22 http://security.ubuntu.com/ubuntu bionic-security/main amd64 Packages [2,565 kB]\n",
            "Get:23 http://security.ubuntu.com/ubuntu bionic-security/universe amd64 Packages [1,470 kB]\n",
            "Get:24 https://developer.download.nvidia.com/compute/cuda/repos/ubuntu1804/x86_64  Packages [917 kB]\n",
            "Get:25 http://archive.ubuntu.com/ubuntu bionic-updates/restricted amd64 Packages [816 kB]\n",
            "Get:26 http://archive.ubuntu.com/ubuntu bionic-updates/main amd64 Packages [3,004 kB]\n",
            "Get:27 http://archive.ubuntu.com/ubuntu bionic-updates/universe amd64 Packages [2,248 kB]\n",
            "Get:28 http://archive.ubuntu.com/ubuntu bionic-updates/multiverse amd64 Packages [29.0 kB]\n",
            "Fetched 15.0 MB in 7s (2,140 kB/s)\n",
            "Reading package lists... Done\n",
            "Reading package lists... Done\n",
            "Building dependency tree       \n",
            "Reading state information... Done\n",
            "The following packages were automatically installed and are no longer required:\n",
            "  cuda-command-line-tools-10-0 cuda-command-line-tools-10-1\n",
            "  cuda-command-line-tools-11-0 cuda-compiler-10-0 cuda-compiler-10-1\n",
            "  cuda-compiler-11-0 cuda-cuobjdump-10-0 cuda-cuobjdump-10-1\n",
            "  cuda-cuobjdump-11-0 cuda-cupti-10-0 cuda-cupti-10-1 cuda-cupti-11-0\n",
            "  cuda-cupti-dev-11-0 cuda-documentation-10-0 cuda-documentation-10-1\n",
            "  cuda-documentation-11-0 cuda-documentation-11-1 cuda-gdb-10-0 cuda-gdb-10-1\n",
            "  cuda-gdb-11-0 cuda-gpu-library-advisor-10-0 cuda-gpu-library-advisor-10-1\n",
            "  cuda-libraries-10-0 cuda-libraries-10-1 cuda-libraries-11-0\n",
            "  cuda-memcheck-10-0 cuda-memcheck-10-1 cuda-memcheck-11-0 cuda-nsight-10-0\n",
            "  cuda-nsight-10-1 cuda-nsight-11-0 cuda-nsight-11-1 cuda-nsight-compute-10-0\n",
            "  cuda-nsight-compute-10-1 cuda-nsight-compute-11-0 cuda-nsight-compute-11-1\n",
            "  cuda-nsight-systems-10-1 cuda-nsight-systems-11-0 cuda-nsight-systems-11-1\n",
            "  cuda-nvcc-10-0 cuda-nvcc-10-1 cuda-nvcc-11-0 cuda-nvdisasm-10-0\n",
            "  cuda-nvdisasm-10-1 cuda-nvdisasm-11-0 cuda-nvml-dev-10-0 cuda-nvml-dev-10-1\n",
            "  cuda-nvml-dev-11-0 cuda-nvprof-10-0 cuda-nvprof-10-1 cuda-nvprof-11-0\n",
            "  cuda-nvprune-10-0 cuda-nvprune-10-1 cuda-nvprune-11-0 cuda-nvtx-10-0\n",
            "  cuda-nvtx-10-1 cuda-nvtx-11-0 cuda-nvvp-10-0 cuda-nvvp-10-1 cuda-nvvp-11-0\n",
            "  cuda-nvvp-11-1 cuda-samples-10-0 cuda-samples-10-1 cuda-samples-11-0\n",
            "  cuda-samples-11-1 cuda-sanitizer-11-0 cuda-sanitizer-api-10-1\n",
            "  cuda-toolkit-10-0 cuda-toolkit-10-1 cuda-toolkit-11-0 cuda-toolkit-11-1\n",
            "  cuda-tools-10-0 cuda-tools-10-1 cuda-tools-11-0 cuda-tools-11-1\n",
            "  cuda-visual-tools-10-0 cuda-visual-tools-10-1 cuda-visual-tools-11-0\n",
            "  cuda-visual-tools-11-1 default-jre dkms freeglut3 freeglut3-dev\n",
            "  keyboard-configuration libargon2-0 libcap2 libcryptsetup12\n",
            "  libdevmapper1.02.1 libfontenc1 libidn11 libip4tc0 libjansson4\n",
            "  libnvidia-cfg1-510 libnvidia-common-460 libnvidia-common-510\n",
            "  libnvidia-extra-510 libnvidia-fbc1-510 libnvidia-gl-510 libpam-systemd\n",
            "  libpolkit-agent-1-0 libpolkit-backend-1-0 libpolkit-gobject-1-0 libxfont2\n",
            "  libxi-dev libxkbfile1 libxmu-dev libxmu-headers libxnvctrl0 libxtst6\n",
            "  nsight-compute-2020.2.1 nsight-compute-2022.1.0 nsight-systems-2020.3.2\n",
            "  nsight-systems-2020.3.4 nsight-systems-2021.5.2 nvidia-dkms-510\n",
            "  nvidia-kernel-common-510 nvidia-kernel-source-510 nvidia-modprobe\n",
            "  nvidia-settings openjdk-11-jre policykit-1 policykit-1-gnome python3-xkit\n",
            "  screen-resolution-extra systemd systemd-sysv udev x11-xkb-utils\n",
            "  xserver-common xserver-xorg-core-hwe-18.04 xserver-xorg-video-nvidia-510\n",
            "Use 'apt autoremove' to remove them.\n",
            "The following additional packages will be installed:\n",
            "  python3-numpy\n",
            "Suggested packages:\n",
            "  python-numpy-doc python3-nose python3-numpy-dbg\n",
            "The following NEW packages will be installed:\n",
            "  python3-numpy python3-opencv\n",
            "0 upgraded, 2 newly installed, 0 to remove and 65 not upgraded.\n",
            "Need to get 2,477 kB of archives.\n",
            "After this operation, 13.9 MB of additional disk space will be used.\n",
            "Get:1 http://archive.ubuntu.com/ubuntu bionic/main amd64 python3-numpy amd64 1:1.13.3-2ubuntu1 [1,943 kB]\n",
            "Get:2 http://archive.ubuntu.com/ubuntu bionic-updates/universe amd64 python3-opencv amd64 3.2.0+dfsg-4ubuntu0.1 [534 kB]\n",
            "Fetched 2,477 kB in 1s (2,812 kB/s)\n",
            "Selecting previously unselected package python3-numpy.\n",
            "(Reading database ... 155113 files and directories currently installed.)\n",
            "Preparing to unpack .../python3-numpy_1%3a1.13.3-2ubuntu1_amd64.deb ...\n",
            "Unpacking python3-numpy (1:1.13.3-2ubuntu1) ...\n",
            "Selecting previously unselected package python3-opencv.\n",
            "Preparing to unpack .../python3-opencv_3.2.0+dfsg-4ubuntu0.1_amd64.deb ...\n",
            "Unpacking python3-opencv (3.2.0+dfsg-4ubuntu0.1) ...\n",
            "Setting up python3-numpy (1:1.13.3-2ubuntu1) ...\n",
            "Setting up python3-opencv (3.2.0+dfsg-4ubuntu0.1) ...\n",
            "Processing triggers for man-db (2.8.3-2ubuntu0.1) ...\n"
          ]
        }
      ],
      "source": [
        "!apt-get update && apt-get install -y python3-opencv"
      ]
    },
    {
      "cell_type": "code",
      "execution_count": 3,
      "id": "6f475804-13db-484c-a348-f01580e80a1e",
      "metadata": {
        "tags": [],
        "id": "6f475804-13db-484c-a348-f01580e80a1e"
      },
      "outputs": [],
      "source": [
        "# !pip install sklearn"
      ]
    },
    {
      "cell_type": "code",
      "execution_count": 4,
      "id": "98a45c7e-10ca-4fd1-9fd4-6326313a631a",
      "metadata": {
        "id": "98a45c7e-10ca-4fd1-9fd4-6326313a631a"
      },
      "outputs": [],
      "source": [
        "import os, torch, copy, cv2, sys, random\n",
        "# from datetime import datetime, timezone, timedelta\n",
        "from PIL import Image\n",
        "import numpy as np\n",
        "import pandas as pd\n",
        "from tqdm import tqdm\n",
        "import torch\n",
        "import torch.nn as nn\n",
        "import torch.optim as optim\n",
        "from torch.utils.data import DataLoader, Dataset\n",
        "import torchvision.transforms as transforms"
      ]
    },
    {
      "cell_type": "markdown",
      "id": "3a6c255b-b30d-4ffd-a663-bc01a2c37954",
      "metadata": {
        "id": "3a6c255b-b30d-4ffd-a663-bc01a2c37954"
      },
      "source": [
        "## Set Arguments & hyperparameters"
      ]
    },
    {
      "cell_type": "code",
      "execution_count": 5,
      "id": "8f9c4250-2257-404f-941d-58eff1e9eb38",
      "metadata": {
        "id": "8f9c4250-2257-404f-941d-58eff1e9eb38"
      },
      "outputs": [],
      "source": [
        "# 시드(seed) 설정\n",
        "\n",
        "RANDOM_SEED = 2022\n",
        "\n",
        "torch.manual_seed(RANDOM_SEED)\n",
        "torch.backends.cudnn.deterministic = True\n",
        "torch.backends.cudnn.benchmark = False\n",
        "np.random.seed(RANDOM_SEED)\n",
        "random.seed(RANDOM_SEED)"
      ]
    },
    {
      "cell_type": "code",
      "execution_count": 6,
      "id": "9d69a8bc-2e64-4de6-928f-4e16957f6af9",
      "metadata": {
        "id": "9d69a8bc-2e64-4de6-928f-4e16957f6af9"
      },
      "outputs": [],
      "source": [
        "# parameters\n",
        "\n",
        "### 데이터 디렉토리 설정 ###\n",
        "DATA_DIR= '/content/drive/MyDrive/모의경진대회/흉부 CT를 이용한 데이터 분석/data'\n",
        "NUM_CLS = 2\n",
        "\n",
        "EPOCHS = 30\n",
        "BATCH_SIZE = 32\n",
        "LEARNING_RATE = 0.0005\n",
        "EARLY_STOPPING_PATIENCE = 10\n",
        "INPUT_SHAPE = 384\n",
        "\n",
        "os.environ[\"CUDA_VISIBLE_DEVICES\"]=\"0\"\n",
        "DEVICE = torch.device('cuda' if torch.cuda.is_available() else 'cpu')"
      ]
    },
    {
      "cell_type": "markdown",
      "id": "d44807b0-7788-49ec-aff2-c756e4513c5e",
      "metadata": {
        "id": "d44807b0-7788-49ec-aff2-c756e4513c5e"
      },
      "source": [
        "## Dataloader\n",
        "* 원본 이미지 shape (384, 384, 3)"
      ]
    },
    {
      "cell_type": "markdown",
      "source": [
        "## Data Augmentation \n",
        " - 라이브러리 자체 Augmentation 모듈도 있지만 Albumentation이 연산 속도가 빨라서 선택!\n",
        " - 캐글러들도 많이 선택한다고 함."
      ],
      "metadata": {
        "id": "tK4DxAZA8ddi"
      },
      "id": "tK4DxAZA8ddi"
    },
    {
      "cell_type": "markdown",
      "source": [
        "#### Train & Validation Set loader"
      ],
      "metadata": {
        "id": "UHPASBUh_ds-"
      },
      "id": "UHPASBUh_ds-"
    },
    {
      "cell_type": "code",
      "source": [
        "# ! pip install albumentations==0.4.6"
      ],
      "metadata": {
        "id": "XDePzI-9_Vs_"
      },
      "id": "XDePzI-9_Vs_",
      "execution_count": 7,
      "outputs": []
    },
    {
      "cell_type": "code",
      "source": [
        "import albumentations as A\n",
        "from albumentations.pytorch import transforms as albu_transforms"
      ],
      "metadata": {
        "id": "mwevZvv2_WYu"
      },
      "id": "mwevZvv2_WYu",
      "execution_count": 8,
      "outputs": []
    },
    {
      "cell_type": "code",
      "execution_count": 9,
      "id": "04642777-c2e0-439b-9692-f6c571a86521",
      "metadata": {
        "id": "04642777-c2e0-439b-9692-f6c571a86521"
      },
      "outputs": [],
      "source": [
        "class CustomDataset(Dataset):  # albu 넣어보기\n",
        "    def __init__(self, data_dir, mode, input_shape, transform=None):\n",
        "        self.data_dir = data_dir\n",
        "        self.mode = mode\n",
        "        self.input_shape = input_shape\n",
        "        \n",
        "        # Loading dataset\n",
        "        self.db = self.data_loader()\n",
        "        \n",
        "        # Dataset split\n",
        "        if self.mode in ['train', 'aug']:\n",
        "            self.db = self.db[:int(len(self.db) * 0.9)]  # 앞 90% 불러오기\n",
        "        elif self.mode == 'val':\n",
        "            self.db = self.db[int(len(self.db) * 0.9):]  # 뒤 10% 불러오기\n",
        "            self.db.reset_index(inplace=True)\n",
        "        else:\n",
        "            print(f'!!! Invalid split {self.mode}... !!!')\n",
        "        \n",
        "        self.transform = transform\n",
        "        if self.transform:\n",
        "            self.transform = transform\n",
        "        else:\n",
        "            # self.transform = A.Compose([A.Resize(256,256),\n",
        "            #                             A.Normalize(mean=[0.485, 0.456, 0.406],\n",
        "            #                                         std=[0.229, 0.224, 0.225],),\n",
        "            #                             albu_transforms.ToTensorV2(),\n",
        "            #                            ])\n",
        "            self.transform = transforms.Compose([transforms.Resize(self.input_shape),  # 위에서 설정한 값으로 이미지 리사이즈\n",
        "                                             transforms.ToTensor(),  # 이미지 텐서화\n",
        "                                             transforms.Normalize([0.485, 0.456, 0.406], [0.229, 0.224, 0.225])])\n",
        "            \n",
        "    def data_loader(self):  # csv 파일 불러오기\n",
        "        print('Loading ' + self.mode + ' dataset..')\n",
        "        if not os.path.isdir(self.data_dir):\n",
        "            print(f'!!! Cannot find {self.data_dir}... !!!')\n",
        "            sys.exit()\n",
        "        \n",
        "        # (COVID : 1, No : 0)\n",
        "        db = pd.read_csv(os.path.join(self.data_dir, 'train.csv'))\n",
        "        return db\n",
        "\n",
        "    def __len__(self):\n",
        "        return len(self.db)\n",
        "\n",
        "    def __getitem__(self, index):  # 각 데이터의 이미지 텐서, 라벨값 반환\n",
        "        data = copy.deepcopy(self.db.loc[index])  # index번째 이미지 불러오기 -> 복사본 만들기(찐 데이터에 영향ㄴㄴ)\n",
        "        \n",
        "        label = data['COVID']\n",
        "        file_path = os.path.join(self.data_dir,'train',data['file_name'])\n",
        "        # Loading image\n",
        "        cvimg = cv2.imread(file_path)\n",
        "        cvimg = cv2.cvtColor(cvimg, cv2.COLOR_BGR2RGB)\n",
        "        \n",
        "        if not isinstance(cvimg, np.ndarray):\n",
        "            raise IOError(\"Fail to read %s\" % data['file_name'])  # 혹시 안되면 에러 띄우기\n",
        "\n",
        "        # Preprocessing images\n",
        "        if self.mode == 'aug':  # self.transform:\n",
        "            cvimg = self.transform(image=cvimg)['image']\n",
        "            # augmented = self.transform(image=cvimg)\n",
        "            # cvimg = augmented['image']\n",
        "        else:\n",
        "            # cvimg = self.transform(image=cvimg)['image']\n",
        "            cvimg = self.transform(Image.fromarray(cvimg))\n",
        "\n",
        "        return cvimg, label  # 텐서로 변환된 이미지와 label 반환\n",
        "    \n",
        "    \n"
      ]
    },
    {
      "cell_type": "markdown",
      "source": [
        "### Albumentation"
      ],
      "metadata": {
        "id": "TydSLd-o_iYV"
      },
      "id": "TydSLd-o_iYV"
    },
    {
      "cell_type": "code",
      "source": [
        "albumentations_transform = A.Compose([\n",
        "    A.Resize(400, 400), # 256, 256\n",
        "    A.RandomCrop(384, 384), # 224, 224\n",
        "    A.HorizontalFlip(p=0.5),  # p의 확률로 좌우 반전\n",
        "    A.Normalize(\n",
        "        mean=[0.485, 0.456, 0.406],\n",
        "        std=[0.229, 0.224, 0.225],\n",
        "    ),\n",
        "    A.RandomBrightnessContrast(p=0.5),\n",
        "    A.RandomRotate90(p=0.2),\n",
        "    # A.Blur(),\n",
        "    A.VerticalFlip(),\n",
        "    \n",
        "    albu_transforms.ToTensor()\n",
        "])\n"
      ],
      "metadata": {
        "id": "vB7Mm_Ts_h4I"
      },
      "id": "vB7Mm_Ts_h4I",
      "execution_count": 10,
      "outputs": []
    },
    {
      "cell_type": "code",
      "source": [
        "# albumentations_transform2 = A.Compose([\n",
        "#     A.Resize(400, 400), # 256, 256\n",
        "#     A.RandomCrop(384, 384), # 224, 224\n",
        "#     A.HorizontalFlip(p=0.5),  # p의 확률로 좌우 반전\n",
        "#     A.Normalize(\n",
        "#         mean=[0.485, 0.456, 0.406],\n",
        "#         std=[0.229, 0.224, 0.225],\n",
        "#     ),\n",
        "#     A.RandomBrightnessContrast(p=0.5),\n",
        "#     A.RandomRotate90(p=0.2),\n",
        "#     # A.Blur(),\n",
        "#     A.VerticalFlip(),\n",
        "    \n",
        "#     albu_transforms.ToTensor()\n",
        "# ])"
      ],
      "metadata": {
        "id": "j_l5D9sM_sJt"
      },
      "id": "j_l5D9sM_sJt",
      "execution_count": 11,
      "outputs": []
    },
    {
      "cell_type": "markdown",
      "id": "61b27520-c82c-4ec8-ae0b-119a79167f09",
      "metadata": {
        "id": "61b27520-c82c-4ec8-ae0b-119a79167f09"
      },
      "source": [
        "## Model"
      ]
    },
    {
      "cell_type": "markdown",
      "source": [
        "### CNN(LeNet)"
      ],
      "metadata": {
        "id": "pktBBQop7lKg"
      },
      "id": "pktBBQop7lKg"
    },
    {
      "cell_type": "code",
      "source": [
        "import torch.nn.functional as F\n",
        "\n",
        "class custom_CNN(nn.Module):\n",
        "    def __init__(self, num_classes):\n",
        "        super(custom_CNN, self).__init__()\n",
        "        self.conv1 = nn.Conv2d(in_channels=3, out_channels=8, kernel_size=5) #62\n",
        "        self.conv_bn1 = nn.BatchNorm2d(8)\n",
        "        self.pool = nn.MaxPool2d(kernel_size=2)\n",
        "        self.conv2 = nn.Conv2d(in_channels=8, out_channels=16, kernel_size=5)\n",
        "        self.conv_bn2 = nn.BatchNorm2d(16)\n",
        "        \n",
        "        self.fc1 = nn.Linear(in_features=16*93*93, out_features=128)\n",
        "        self.fc2 = nn.Linear(in_features=128, out_features=num_classes)\n",
        "        self.softmax = nn.Softmax(dim=1)\n",
        "        # self.dropout = nn.Dropout(p=0.5)\n",
        "        \n",
        "    def forward(self, x):\n",
        "        x = self.pool(F.relu(self.conv1(x))) # (32, 3, 384, 384) -> (32, 8, 190, 190)\n",
        "        x = self.conv_bn1(x)\n",
        "        x = self.pool(F.relu(self.conv2(x))) # (32, 8, 190, 190) -> (32, 16, 93, 93)\n",
        "        x = self.conv_bn2(x)\n",
        "        \n",
        "        x = torch.flatten(x,1)\n",
        "        x = F.relu(self.fc1(x)) # (32, 128)\n",
        "        x = F.relu(self.fc2(x)) # (32, 2)\n",
        "        \n",
        "        output = self.softmax(x) \n",
        "        return output"
      ],
      "metadata": {
        "id": "IuSFykXFbESs"
      },
      "id": "IuSFykXFbESs",
      "execution_count": 12,
      "outputs": []
    },
    {
      "cell_type": "markdown",
      "source": [
        "### DCNN"
      ],
      "metadata": {
        "id": "KrvflesV7rNO"
      },
      "id": "KrvflesV7rNO"
    },
    {
      "cell_type": "code",
      "execution_count": 13,
      "id": "685e0b73-f323-40ea-b372-6c1d607618a9",
      "metadata": {
        "id": "685e0b73-f323-40ea-b372-6c1d607618a9"
      },
      "outputs": [],
      "source": [
        "# #DCNN\n",
        "# import torch.nn.functional as F\n",
        "\n",
        "# class custom_CNN(nn.Module):\n",
        "#     def __init__(self, num_classes):\n",
        "#         super(custom_CNN, self).__init__()\n",
        "#         self.conv1 = nn.Conv2d(in_channels=3, out_channels=8, kernel_size=5) #62\n",
        "#         self.conv_bn1 = nn.BatchNorm2d(8)\n",
        "#         self.pool = nn.MaxPool2d(kernel_size=2)\n",
        "#         self.conv2 = nn.Conv2d(in_channels=8, out_channels=16, kernel_size=5)\n",
        "#         self.conv_bn2 = nn.BatchNorm2d(16)\n",
        "#         self.conv3 = nn.Conv2d(in_channels=16, out_channels=25, kernel_size=5)\n",
        "#         self.conv_bn3 = nn.BatchNorm2d(25)\n",
        "        \n",
        "#         self.fc1 = nn.Linear(in_features=25*44*44, out_features=128)\n",
        "#         self.fc2 = nn.Linear(in_features=128, out_features=num_classes)\n",
        "#         self.softmax = nn.Softmax(dim=1)\n",
        "        \n",
        "#     def forward(self, x):\n",
        "#         x = self.pool(F.relu(self.conv1(x))) # (32, 3, 384, 384) -> (32, 8, 190, 190)\n",
        "#         x = self.conv_bn1(x)\n",
        "#         x = self.pool(F.relu(self.conv2(x))) # (32, 8, 190, 190) -> (32, 16, 93, 93)\n",
        "#         x = self.conv_bn2(x)\n",
        "#         x = self.pool(F.relu(self.conv3(x))) # (32, 16, 93, 93) -> (32, 25, 44, 44)\n",
        "#         x = self.conv_bn3(x)\n",
        "        \n",
        "#         x = torch.flatten(x,1)\n",
        "#         x = F.relu(self.fc1(x)) # (32, 128)\n",
        "#         x = F.relu(self.fc2(x)) # (32, 2)\n",
        "        \n",
        "#         output = self.softmax(x) \n",
        "#         return output"
      ]
    },
    {
      "cell_type": "markdown",
      "source": [
        "### AlexNet"
      ],
      "metadata": {
        "id": "wZGOUpcyM3tB"
      },
      "id": "wZGOUpcyM3tB"
    },
    {
      "cell_type": "code",
      "source": [
        "# #AlexNet\n",
        "# import torch.nn.functional as F\n",
        "\n",
        "# class AlexNet(nn.Module):\n",
        "#     def __init__(self, num_classes, init_weights: bool = True):\n",
        "#         super(AlexNet, self).__init__()\n",
        "#         self.convnet = nn.Sequential(\n",
        "#             # Input Channel (RGB: 3)\n",
        "#             nn.Conv2d(in_channels=3, out_channels=8, kernel_size=5, padding=0, stride=4), # 384 -> 95\n",
        "#             nn.ReLU(inplace=True),\n",
        "#             nn.LocalResponseNorm(size=5, k=2),\n",
        "#             nn.MaxPool2d(kernel_size=3, stride=2), # 95 -> 47\n",
        "            \n",
        "#             nn.Conv2d(in_channels=8, out_channels=16, kernel_size=5, padding=2, stride=1), # 47 -> 47\n",
        "#             nn.ReLU(inplace=True),\n",
        "#             nn.LocalResponseNorm(size=5, k=2),\n",
        "#             nn.MaxPool2d(kernel_size=3, stride=2), # 47 -> 23\n",
        "            \n",
        "#             nn.Conv2d(in_channels=16, out_channels=32, kernel_size=3, padding=1, stride=1),\n",
        "#             nn.ReLU(inplace=True),\n",
        "#             nn.LocalResponseNorm(size=5, k=2),\n",
        "#             nn.Conv2d(in_channels=32, out_channels=64, kernel_size=3, padding=1, stride=1),\n",
        "#             nn.ReLU(inplace=True),\n",
        "#             nn.LocalResponseNorm(size=5, k=2),\n",
        "#             nn.Conv2d(in_channels=64, out_channels=128, kernel_size=3, padding=1, stride=1),\n",
        "#             nn.ReLU(inplace=True),\n",
        "#             nn.LocalResponseNorm(size=5, k=2),\n",
        "#             nn.MaxPool2d(kernel_size=3, stride=2), # 23 -> 11\n",
        "#         )\n",
        "\n",
        "#         self.fclayer = nn.Sequential(\n",
        "#             nn.Linear(128 * 11 * 11, 256),\n",
        "#             nn.ReLU(inplace=True),\n",
        "#             nn.Dropout(p=0.5),\n",
        "#             nn.Linear(256, 512),\n",
        "#             nn.ReLU(inplace=True),\n",
        "#             nn.Dropout(p=0.5),\n",
        "#             nn.Linear(512, num_classes),\n",
        "#         )\n",
        "#         self.softmax = nn.Softmax(dim=1)\n",
        "    \n",
        "#     def forward(self, x):\n",
        "#         x = self.convnet(x)\n",
        "#         x = torch.flatten(x, 1)\n",
        "#         x = self.fclayer(x)\n",
        "#         output = self.softmax(x)\n",
        "\n",
        "#         return output\n",
        "  "
      ],
      "metadata": {
        "id": "KMCQyJYfM5jp"
      },
      "id": "KMCQyJYfM5jp",
      "execution_count": null,
      "outputs": []
    },
    {
      "cell_type": "markdown",
      "source": [
        "### VGG"
      ],
      "metadata": {
        "id": "ayxYyaWf7hKV"
      },
      "id": "ayxYyaWf7hKV"
    },
    {
      "cell_type": "code",
      "source": [
        "# # VGG_13_bn\n",
        "\n",
        "# import torch.nn.functional as F\n",
        "\n",
        "# class VGG_B(nn.Module):\n",
        "#     def __init__(self, num_classes, init_weights: bool = True):\n",
        "#         super(VGG_B, self).__init__()\n",
        "#         self.convnet = nn.Sequential(\n",
        "#             # Input Channel (RGB: 3)\n",
        "#             nn.Conv2d(in_channels=3, out_channels=64, kernel_size=3, padding=1, stride=1),\n",
        "#             nn.ReLU(inplace=True),\n",
        "#             nn.BatchNorm2d(64),\n",
        "#             nn.Conv2d(in_channels=64, out_channels=64, kernel_size=3, padding=1, stride=1),\n",
        "#             nn.ReLU(inplace=True),\n",
        "#             nn.BatchNorm2d(64),\n",
        "#             nn.MaxPool2d(kernel_size=2, stride=2), # 224 -> 112\n",
        "            \n",
        "#             nn.Conv2d(in_channels=64, out_channels=128, kernel_size=3, padding=1, stride=1),\n",
        "#             nn.ReLU(inplace=True),\n",
        "#             nn.BatchNorm2d(128),\n",
        "#             nn.Conv2d(in_channels=128, out_channels=128, kernel_size=3, padding=1, stride=1),\n",
        "#             nn.ReLU(inplace=True),\n",
        "#             nn.BatchNorm2d(128),\n",
        "#             nn.MaxPool2d(kernel_size=2, stride=2), # 112 -> 56\n",
        "            \n",
        "#             nn.Conv2d(in_channels=128, out_channels=256, kernel_size=3, padding=1, stride=1),\n",
        "#             nn.ReLU(inplace=True),\n",
        "#             nn.BatchNorm2d(256),\n",
        "#             nn.Conv2d(in_channels=256, out_channels=256, kernel_size=3, padding=1, stride=1),\n",
        "#             nn.ReLU(inplace=True),\n",
        "#             nn.BatchNorm2d(256),\n",
        "#             nn.MaxPool2d(kernel_size=2, stride=2), # 56 -> 28\n",
        "\n",
        "#             nn.Conv2d(in_channels=256, out_channels=512, kernel_size=3, padding=1, stride=1),\n",
        "#             nn.ReLU(inplace=True),\n",
        "#             nn.BatchNorm2d(512),\n",
        "#             nn.Conv2d(in_channels=512, out_channels=512, kernel_size=3, padding=1, stride=1),\n",
        "#             nn.ReLU(inplace=True),\n",
        "#             nn.BatchNorm2d(512),\n",
        "#             nn.MaxPool2d(kernel_size=2, stride=2), # 28 -> 14\n",
        "\n",
        "#             nn.Conv2d(in_channels=512, out_channels=512, kernel_size=3, padding=1, stride=1),\n",
        "#             nn.ReLU(inplace=True),\n",
        "#             nn.BatchNorm2d(512),\n",
        "#             nn.Conv2d(in_channels=512, out_channels=512, kernel_size=3, padding=1, stride=1),\n",
        "#             nn.ReLU(inplace=True),\n",
        "#             nn.BatchNorm2d(512),\n",
        "#             nn.MaxPool2d(kernel_size=2, stride=2), # 14 -> 7\n",
        "#         )\n",
        "\n",
        "#         self.fclayer = nn.Sequential(\n",
        "#             nn.Linear(512 * 7 * 7, 4096),\n",
        "#             nn.ReLU(inplace=True),\n",
        "#             nn.Dropout(p=0.5),\n",
        "#             nn.Linear(4096, 4096),\n",
        "#             nn.ReLU(inplace=True),\n",
        "#             nn.Dropout(p=0.5),\n",
        "#             nn.Linear(4096, num_classes),\n",
        "#         )\n",
        "#         self.softmax = nn.Softmax(dim=1)\n",
        "    \n",
        "#     def forward(self, x):\n",
        "#         x = self.convnet(x)\n",
        "#         x = torch.flatten(x, 1)\n",
        "#         x = self.fclayer(x)\n",
        "#         output = self.softmax(x)\n",
        "\n",
        "#         return output"
      ],
      "metadata": {
        "id": "DoJdHOpireVG"
      },
      "id": "DoJdHOpireVG",
      "execution_count": 14,
      "outputs": []
    },
    {
      "cell_type": "code",
      "source": [
        "# # VGG_16bn\n",
        "\n",
        "# import torch.nn.functional as F\n",
        "\n",
        "# class VGG_C(nn.Module):\n",
        "#     def __init__(self, num_classes, init_weights: bool = True):\n",
        "#         super(VGG_C, self).__init__()\n",
        "#         self.convnet = nn.Sequential(\n",
        "#             # Input Channel (RGB: 3)\n",
        "#             nn.Conv2d(in_channels=3, out_channels=64, kernel_size=3, padding=1, stride=1),\n",
        "#             nn.BatchNorm2d(64),\n",
        "#             nn.ReLU(inplace=True),\n",
        "#             nn.Conv2d(in_channels=64, out_channels=64, kernel_size=3, padding=1, stride=1),\n",
        "#             nn.BatchNorm2d(64),\n",
        "#             nn.ReLU(inplace=True),\n",
        "#             nn.MaxPool2d(kernel_size=2, stride=2), # 384 -> 192\n",
        "            \n",
        "#             nn.Conv2d(in_channels=64, out_channels=128, kernel_size=3, padding=1, stride=1),\n",
        "#             nn.BatchNorm2d(128),\n",
        "#             nn.ReLU(inplace=True),\n",
        "#             nn.Conv2d(in_channels=128, out_channels=128, kernel_size=3, padding=1, stride=1),\n",
        "#             nn.BatchNorm2d(128),\n",
        "#             nn.ReLU(inplace=True),\n",
        "#             nn.MaxPool2d(kernel_size=2, stride=2), # 192 -> 96\n",
        "            \n",
        "#             nn.Conv2d(in_channels=128, out_channels=256, kernel_size=3, padding=1, stride=1),\n",
        "#             nn.BatchNorm2d(256),\n",
        "#             nn.ReLU(inplace=True),\n",
        "#             nn.Conv2d(in_channels=256, out_channels=256, kernel_size=3, padding=1, stride=1),\n",
        "#             nn.BatchNorm2d(256),\n",
        "#             nn.ReLU(inplace=True),\n",
        "#             nn.Conv2d(in_channels=256, out_channels=256, kernel_size=3, padding=1, stride=1),\n",
        "#             nn.BatchNorm2d(256),\n",
        "#             nn.ReLU(inplace=True),\n",
        "#             nn.MaxPool2d(kernel_size=2, stride=2), # 96 -> 48\n",
        "\n",
        "#             nn.Conv2d(in_channels=256, out_channels=512, kernel_size=3, padding=1, stride=1),\n",
        "#             nn.BatchNorm2d(512),\n",
        "#             nn.ReLU(inplace=True),\n",
        "#             nn.Conv2d(in_channels=512, out_channels=512, kernel_size=3, padding=1, stride=1),\n",
        "#             nn.BatchNorm2d(512),\n",
        "#             nn.ReLU(inplace=True),\n",
        "#             nn.Conv2d(in_channels=512, out_channels=512, kernel_size=3, padding=1, stride=1),\n",
        "#             nn.BatchNorm2d(512),\n",
        "#             nn.ReLU(inplace=True),\n",
        "#             nn.MaxPool2d(kernel_size=2, stride=2), # 48 -> 24\n",
        "\n",
        "#             nn.Conv2d(in_channels=512, out_channels=512, kernel_size=3, padding=1, stride=1),\n",
        "#             nn.BatchNorm2d(512),\n",
        "#             nn.ReLU(inplace=True),\n",
        "#             nn.Conv2d(in_channels=512, out_channels=512, kernel_size=3, padding=1, stride=1),\n",
        "#             nn.BatchNorm2d(512),\n",
        "#             nn.ReLU(inplace=True),\n",
        "#             nn.Conv2d(in_channels=512, out_channels=512, kernel_size=3, padding=1, stride=1),\n",
        "#             nn.BatchNorm2d(512),\n",
        "#             nn.ReLU(inplace=True),\n",
        "#             nn.MaxPool2d(kernel_size=2, stride=2), # 24 -> 12\n",
        "#         )\n",
        "\n",
        "#         self.fclayer = nn.Sequential(\n",
        "#             nn.Linear(512 * 12 * 12, 4096),\n",
        "#             nn.ReLU(inplace=True),\n",
        "#             nn.Dropout(p=0.5),\n",
        "#             nn.Linear(4096, 4096),\n",
        "#             nn.ReLU(inplace=True),\n",
        "#             nn.Dropout(p=0.5),\n",
        "#             nn.Linear(4096, num_classes),\n",
        "#         )\n",
        "#         self.softmax = nn.Softmax(dim=1)\n",
        "    \n",
        "#     def forward(self, x):\n",
        "#         x = self.convnet(x)\n",
        "#         x = torch.flatten(x, 1)\n",
        "#         x = self.fclayer(x)\n",
        "#         output = self.softmax(x)\n",
        "\n",
        "#         return output"
      ],
      "metadata": {
        "id": "-eRoXrAY5B5h"
      },
      "id": "-eRoXrAY5B5h",
      "execution_count": 15,
      "outputs": []
    },
    {
      "cell_type": "markdown",
      "source": [
        "## ResNet"
      ],
      "metadata": {
        "id": "CtXaCgD7NzfF"
      },
      "id": "CtXaCgD7NzfF"
    },
    {
      "cell_type": "code",
      "source": [
        "# #Resnet\n",
        "\n",
        "# import torchvision.models as models\n",
        "\n",
        "# class ResNet(nn.Module):\n",
        "#     def __init__(self, num_classes):\n",
        "#         super(ResNet, self).__init__()\n",
        "#         self.model = models.resnet18(pretrained=False)\n",
        "#         self.model.fc = nn.Linear(self.model.fc.in_features, num_classes)\n",
        "#         self.softmax = nn.Softmax(dim=1)\n",
        "        \n",
        "#     def forward(self, input_img):\n",
        "#         x = self.model(input_img)\n",
        "#         x = self.softmax(x)\n",
        "#         return x"
      ],
      "metadata": {
        "id": "llBDwzQHN1C3"
      },
      "id": "llBDwzQHN1C3",
      "execution_count": null,
      "outputs": []
    },
    {
      "cell_type": "code",
      "source": [
        "# # Efficientnet_b7\n",
        "\n",
        "# import torchvision.models as models\n",
        "# import torch.nn.functional as F\n",
        "\n",
        "# class Efficientnet_b7(nn.Module):\n",
        "#     def __init__(self, num_classes):\n",
        "#         super(Efficientnet_b7, self).__init__()\n",
        "#         self.model = models.efficientnet_b7(pretrained=False)\n",
        "#         self.fclayer = nn.Sequential(\n",
        "#             nn.Linear(1000, 512),\n",
        "#             nn.ReLU(),\n",
        "#             nn.Dropout(p=0.5),\n",
        "#             nn.Linear(512, num_classes))\n",
        "#         self.softmax = nn.Softmax(dim=1)\n",
        "        \n",
        "#     def forward(self, input_img):\n",
        "#         x = self.model(input_img)\n",
        "#         x = self.fclayer(x)\n",
        "#         x = self.softmax(x)\n",
        "#         return x"
      ],
      "metadata": {
        "id": "l1ahEWObHdWo"
      },
      "id": "l1ahEWObHdWo",
      "execution_count": 16,
      "outputs": []
    },
    {
      "cell_type": "markdown",
      "id": "1d056905-1f77-4579-a260-07bb1056f6db",
      "metadata": {
        "id": "1d056905-1f77-4579-a260-07bb1056f6db"
      },
      "source": [
        "## Utils\n",
        "### EarlyStopper"
      ]
    },
    {
      "cell_type": "code",
      "execution_count": 17,
      "id": "1b4c3315-ebca-4e6b-a8f2-1281ccd0bb87",
      "metadata": {
        "id": "1b4c3315-ebca-4e6b-a8f2-1281ccd0bb87"
      },
      "outputs": [],
      "source": [
        "class LossEarlyStopper():\n",
        "    \"\"\"Early stopper\n",
        "    \n",
        "    Attributes:\n",
        "        patience (int): loss가 줄어들지 않아도 학습할 epoch 수\n",
        "        patience_counter (int): loss 가 줄어들지 않을 때 마다 1씩 증가, 감소 시 0으로 리셋\n",
        "        min_loss (float): 최소 loss\n",
        "        stop (bool): True 일 때 학습 중단\n",
        "\n",
        "    \"\"\"\n",
        "\n",
        "    def __init__(self, patience: int)-> None:\n",
        "        self.patience = patience\n",
        "\n",
        "        self.patience_counter = 0\n",
        "        self.min_loss = np.Inf\n",
        "        self.stop = False\n",
        "        self.save_model = False\n",
        "\n",
        "    def check_early_stopping(self, loss: float)-> None:\n",
        "        \"\"\"Early stopping 여부 판단\"\"\"  \n",
        "\n",
        "        if self.min_loss == np.Inf:\n",
        "            self.min_loss = loss\n",
        "            return None\n",
        "\n",
        "        elif loss > self.min_loss:\n",
        "            self.patience_counter += 1\n",
        "            msg = f\"Early stopping counter {self.patience_counter}/{self.patience}\"\n",
        "\n",
        "            if self.patience_counter == self.patience:\n",
        "                self.stop = True\n",
        "                \n",
        "        elif loss <= self.min_loss:\n",
        "            self.patience_counter = 0\n",
        "            self.save_model = True\n",
        "            msg = f\"Validation loss decreased {self.min_loss} -> {loss}\"\n",
        "            self.min_loss = loss\n",
        "        \n",
        "        print(msg)"
      ]
    },
    {
      "cell_type": "markdown",
      "id": "1aaffd8d-b025-42c1-8dd8-69529487389e",
      "metadata": {
        "id": "1aaffd8d-b025-42c1-8dd8-69529487389e"
      },
      "source": [
        "### Trainer"
      ]
    },
    {
      "cell_type": "code",
      "source": [
        "# 학습 데이터의 loss를 저장\n",
        "running_loss_history = []\n",
        "# 학습 데이터의 accuracy를 저장\n",
        "running_corrects_history = []\n",
        "# 평가 데이터의 loss를 저장\n",
        "val_running_loss_history = []\n",
        "# 평가 데이터의 accuracy를 저장\n",
        "val_running_corrects_history = []"
      ],
      "metadata": {
        "id": "mnoG5yr0e33C"
      },
      "id": "mnoG5yr0e33C",
      "execution_count": 18,
      "outputs": []
    },
    {
      "cell_type": "code",
      "source": [
        "class Trainer():\n",
        "    \"\"\" epoch에 대한 학습 및 검증 절차 정의\"\"\"\n",
        "    \n",
        "    def __init__(self, loss_fn, model, device, metric_fn, optimizer=None, scheduler=None):\n",
        "        \"\"\" 초기화\n",
        "        \"\"\"\n",
        "        self.loss_fn = loss_fn\n",
        "        self.model = model\n",
        "        self.device = device\n",
        "        self.optimizer = optimizer\n",
        "        self.scheduler = scheduler\n",
        "        self.metric_fn = metric_fn\n",
        "\n",
        "    def train_epoch(self, dataloader, epoch_index):\n",
        "        \"\"\" 한 epoch에서 수행되는 학습 절차\"\"\"\n",
        "        \n",
        "        self.model.train()\n",
        "        train_total_loss = 0\n",
        "        target_lst = []\n",
        "        pred_lst = []\n",
        "        prob_lst = []\n",
        "\n",
        "        for batch_index, (img, label) in enumerate(dataloader):\n",
        "            img = img.to(self.device)\n",
        "            label = label.to(self.device).float()\n",
        "            \n",
        "            pred = self.model(img)\n",
        "            \n",
        "            loss = self.loss_fn(pred[:,1], label)\n",
        "            self.optimizer.zero_grad()\n",
        "            loss.backward()\n",
        "            self.optimizer.step()\n",
        "            self.scheduler.step()\n",
        "            \n",
        "            train_total_loss += loss.item()\n",
        "            prob_lst.extend(pred[:, 1].cpu().tolist())\n",
        "            target_lst.extend(label.cpu().tolist())\n",
        "            pred_lst.extend(pred.argmax(dim=1).cpu().tolist())\n",
        "        self.train_mean_loss = train_total_loss / batch_index\n",
        "        running_loss_history.append(self.train_mean_loss)\n",
        "        self.train_score, f1 = self.metric_fn(y_pred=pred_lst, y_answer=target_lst)\n",
        "        running_corrects_history.append(self.train_score)\n",
        "        msg = f'Epoch {epoch_index}, Train loss: {self.train_mean_loss}, Acc: {self.train_score}, F1-Macro: {f1}'\n",
        "        print(msg)\n",
        "\n",
        "    def validate_epoch(self, dataloader, epoch_index):\n",
        "        \"\"\" 한 epoch에서 수행되는 검증 절차\n",
        "        \"\"\"\n",
        "        self.model.eval()\n",
        "        val_total_loss = 0\n",
        "        target_lst = []\n",
        "        pred_lst = []\n",
        "        prob_lst = []\n",
        "\n",
        "        for batch_index, (img, label) in enumerate(dataloader):\n",
        "            img = img.to(self.device)\n",
        "            label = label.to(self.device).float()\n",
        "            pred = self.model(img)\n",
        "            \n",
        "            loss = self.loss_fn(pred[:,1], label)\n",
        "            val_total_loss += loss.item()\n",
        "            prob_lst.extend(pred[:, 1].cpu().tolist())\n",
        "            target_lst.extend(label.cpu().tolist())\n",
        "            pred_lst.extend(pred.argmax(dim=1).cpu().tolist())\n",
        "        self.val_mean_loss = val_total_loss / batch_index\n",
        "        val_running_loss_history.append(self.val_mean_loss)\n",
        "        self.validation_score, f1 = self.metric_fn(y_pred=pred_lst, y_answer=target_lst)\n",
        "        val_running_corrects_history.append(self.validation_score)\n",
        "        msg = f'Epoch {epoch_index}, Val loss: {self.val_mean_loss}, Acc: {self.validation_score}, F1-Macro: {f1}'\n",
        "        print(msg)\n",
        "        "
      ],
      "metadata": {
        "id": "bk9SRxuqfCdM"
      },
      "id": "bk9SRxuqfCdM",
      "execution_count": 19,
      "outputs": []
    },
    {
      "cell_type": "markdown",
      "id": "e2aca506-d168-4c9f-8eca-5cdecb122961",
      "metadata": {
        "id": "e2aca506-d168-4c9f-8eca-5cdecb122961"
      },
      "source": [
        "### Metrics"
      ]
    },
    {
      "cell_type": "code",
      "execution_count": 20,
      "id": "33678d90-a254-48d5-bf09-2a817eeafea3",
      "metadata": {
        "id": "33678d90-a254-48d5-bf09-2a817eeafea3"
      },
      "outputs": [],
      "source": [
        "from sklearn.metrics import accuracy_score, f1_score\n",
        "\n",
        "def get_metric_fn(y_pred, y_answer):\n",
        "    \"\"\" 성능을 반환하는 함수\"\"\"\n",
        "    \n",
        "    assert len(y_pred) == len(y_answer), 'The size of prediction and answer are not same.'\n",
        "    accuracy = accuracy_score(y_answer, y_pred)\n",
        "    f1 = f1_score(y_answer, y_pred, average='macro')\n",
        "    return accuracy, f1"
      ]
    },
    {
      "cell_type": "markdown",
      "id": "d729c079-9d85-49ce-857f-320b0c56a3a8",
      "metadata": {
        "tags": [],
        "id": "d729c079-9d85-49ce-857f-320b0c56a3a8"
      },
      "source": [
        "## Train\n",
        "### 학습을 위한 객체 선언"
      ]
    },
    {
      "cell_type": "markdown",
      "id": "b19610a4-ad7c-44a0-80cd-9734b5015100",
      "metadata": {
        "tags": [],
        "id": "b19610a4-ad7c-44a0-80cd-9734b5015100"
      },
      "source": [
        "#### Load Dataset & Dataloader"
      ]
    },
    {
      "cell_type": "code",
      "execution_count": 21,
      "id": "7cea68f0-dfad-47ce-a8ca-00ea01988886",
      "metadata": {
        "colab": {
          "base_uri": "https://localhost:8080/"
        },
        "id": "7cea68f0-dfad-47ce-a8ca-00ea01988886",
        "outputId": "4a0a56be-aed2-4dd9-fb48-52be24529165"
      },
      "outputs": [
        {
          "output_type": "stream",
          "name": "stdout",
          "text": [
            "Loading train dataset..\n",
            "Loading aug dataset..\n",
            "Loading val dataset..\n",
            "Train set samples: 1162 Val set samples: 65\n"
          ]
        }
      ],
      "source": [
        "# Load dataset & dataloader\n",
        "train_origin_dataset = CustomDataset(data_dir=DATA_DIR, mode='train', input_shape=INPUT_SHAPE)\n",
        "train_aug_dataset = CustomDataset(data_dir=DATA_DIR, mode='aug', input_shape=INPUT_SHAPE, transform=albumentations_transform)\n",
        "validation_dataset = CustomDataset(data_dir=DATA_DIR, mode='val', input_shape=INPUT_SHAPE)\n",
        "\n",
        "\n",
        "train_dataset = torch.utils.data.ConcatDataset([train_origin_dataset, train_aug_dataset])\n",
        "# validation_dataset = torch.utils.data.ConcatDataset([validation_dataset])\n",
        "\n",
        "\n",
        "train_dataloader = DataLoader(train_dataset, batch_size=BATCH_SIZE, shuffle=True)\n",
        "validation_dataloader = DataLoader(validation_dataset, batch_size=BATCH_SIZE, shuffle=True)\n",
        "\n",
        "print('Train set samples:',len(train_dataset),  'Val set samples:', len(validation_dataset))"
      ]
    },
    {
      "cell_type": "markdown",
      "source": [
        "### Visual Images\n",
        "\n",
        "* 이미지가 잘 나오는지 확인"
      ],
      "metadata": {
        "id": "8xLyTKiSLHJz"
      },
      "id": "8xLyTKiSLHJz"
    },
    {
      "cell_type": "code",
      "source": [
        "import matplotlib.pyplot as plt\n",
        "import numpy as np\n",
        "import torch\n",
        "import torchvision\n",
        "import torchvision.transforms as transforms\n",
        "\n",
        "# functions to show an image\n",
        "# scale에 따른 시각화차이를 보여주기 위함\n",
        "def imshow(img):\n",
        "    print(f'img scale min: {img.min()} max: {img.max()}')\n",
        "    npimg = img.numpy()\n",
        "    plt.imshow(np.transpose(npimg, (1, 2, 0)))\n",
        "    plt.show()\n",
        "\n",
        "    plt.close()\n",
        "\n",
        "    img = img / 2 + 0.5     # unnormalize \n",
        "    print(f'img scale min: {img.min()} max: {img.max()}')\n",
        "    npimg = img.numpy()\n",
        "    plt.imshow(np.transpose(npimg, (1, 2, 0)))\n",
        "    plt.show()\n",
        "\n",
        "# get some random training images\n",
        "dataiter = iter(train_dataloader)\n",
        "images, labels = dataiter.next()\n",
        "\n",
        "# show images\n",
        "imshow(torchvision.utils.make_grid(images))"
      ],
      "metadata": {
        "colab": {
          "base_uri": "https://localhost:8080/",
          "height": 494
        },
        "id": "lWEh2ON0LGE1",
        "outputId": "2b69ba8b-5e0f-470f-bac0-b26997adf4e0"
      },
      "id": "lWEh2ON0LGE1",
      "execution_count": 22,
      "outputs": [
        {
          "output_type": "stream",
          "name": "stderr",
          "text": [
            "Clipping input data to the valid range for imshow with RGB data ([0..1] for floats or [0..255] for integers).\n"
          ]
        },
        {
          "output_type": "stream",
          "name": "stdout",
          "text": [
            "img scale min: -2.1179039478302 max: 2.640000104904175\n"
          ]
        },
        {
          "output_type": "display_data",
          "data": {
            "image/png": "[encoded data removed]",
            "text/plain": [
              "<Figure size 432x288 with 1 Axes>"
            ]
          },
          "metadata": {
            "needs_background": "light"
          }
        },
        {
          "output_type": "stream",
          "name": "stderr",
          "text": [
            "Clipping input data to the valid range for imshow with RGB data ([0..1] for floats or [0..255] for integers).\n"
          ]
        },
        {
          "output_type": "stream",
          "name": "stdout",
          "text": [
            "img scale min: -0.5589519739151001 max: 1.8200000524520874\n"
          ]
        },
        {
          "output_type": "display_data",
          "data": {
            "image/png": "[encoded data removed]",
            "text/plain": [
              "<Figure size 432x288 with 1 Axes>"
            ]
          },
          "metadata": {
            "needs_background": "light"
          }
        }
      ]
    },
    {
      "cell_type": "markdown",
      "id": "3bb8dae0-8e32-4ac0-a585-858a7095d2a4",
      "metadata": {
        "id": "3bb8dae0-8e32-4ac0-a585-858a7095d2a4"
      },
      "source": [
        "#### Load model and other utils"
      ]
    },
    {
      "cell_type": "code",
      "execution_count": 23,
      "id": "cb4d52e1-752a-40d5-9b34-c06d3dbdd45a",
      "metadata": {
        "id": "cb4d52e1-752a-40d5-9b34-c06d3dbdd45a"
      },
      "outputs": [],
      "source": [
        "# Load Model\n",
        "model = custom_CNN(NUM_CLS).to(DEVICE)\n",
        "\n",
        "# # Save Initial Model\n",
        "# torch.save(model.state_dict(), 'initial.pt')\n",
        "\n",
        "# Set optimizer, scheduler, loss function, metric function\n",
        "optimizer = optim.Adam(model.parameters(), lr=LEARNING_RATE)\n",
        "scheduler =  optim.lr_scheduler.OneCycleLR(optimizer=optimizer, pct_start=0.1, div_factor=1e5, max_lr=0.0001, epochs=EPOCHS, steps_per_epoch=len(train_dataloader))\n",
        "loss_fn = nn.BCELoss()\n",
        "metric_fn = get_metric_fn\n",
        "\n",
        "# Set trainer\n",
        "trainer = Trainer(loss_fn, model, DEVICE, metric_fn, optimizer, scheduler)\n",
        "\n",
        "# Set earlystopper\n",
        "early_stopper = LossEarlyStopper(patience=EARLY_STOPPING_PATIENCE)"
      ]
    },
    {
      "cell_type": "code",
      "execution_count": 24,
      "id": "9b881024-3921-4c2c-b9ec-e6b23c4f5ad2",
      "metadata": {
        "tags": [],
        "colab": {
          "base_uri": "https://localhost:8080/"
        },
        "id": "9b881024-3921-4c2c-b9ec-e6b23c4f5ad2",
        "outputId": "d9c06b03-72da-4647-fc80-648b39077c2a"
      },
      "outputs": [
        {
          "output_type": "execute_result",
          "data": {
            "text/plain": [
              "custom_CNN(\n",
              "  (conv1): Conv2d(3, 8, kernel_size=(5, 5), stride=(1, 1))\n",
              "  (conv_bn1): BatchNorm2d(8, eps=1e-05, momentum=0.1, affine=True, track_running_stats=True)\n",
              "  (pool): MaxPool2d(kernel_size=2, stride=2, padding=0, dilation=1, ceil_mode=False)\n",
              "  (conv2): Conv2d(8, 16, kernel_size=(5, 5), stride=(1, 1))\n",
              "  (conv_bn2): BatchNorm2d(16, eps=1e-05, momentum=0.1, affine=True, track_running_stats=True)\n",
              "  (fc1): Linear(in_features=138384, out_features=128, bias=True)\n",
              "  (fc2): Linear(in_features=128, out_features=2, bias=True)\n",
              "  (softmax): Softmax(dim=1)\n",
              ")"
            ]
          },
          "metadata": {},
          "execution_count": 24
        }
      ],
      "source": [
        "model"
      ]
    },
    {
      "cell_type": "markdown",
      "source": [
        "### parameter 수"
      ],
      "metadata": {
        "id": "1N2cLXmPgZGP"
      },
      "id": "1N2cLXmPgZGP"
    },
    {
      "cell_type": "code",
      "source": [
        "def count_parameters(model):\n",
        "    return sum(p.numel() for p in model.parameters() if p.requires_grad)\n",
        "count_parameters(model)"
      ],
      "metadata": {
        "colab": {
          "base_uri": "https://localhost:8080/"
        },
        "id": "5ooEADr3B0gJ",
        "outputId": "093b5dbf-08c8-4e9f-ed6f-b314d71f9c3b"
      },
      "id": "5ooEADr3B0gJ",
      "execution_count": 25,
      "outputs": [
        {
          "output_type": "execute_result",
          "data": {
            "text/plain": [
              "17717410"
            ]
          },
          "metadata": {},
          "execution_count": 25
        }
      ]
    },
    {
      "cell_type": "markdown",
      "id": "d5aa8aef-b984-4133-b6b2-e1c85900f724",
      "metadata": {
        "id": "d5aa8aef-b984-4133-b6b2-e1c85900f724"
      },
      "source": [
        "### epoch 단위 학습 진행"
      ]
    },
    {
      "cell_type": "code",
      "execution_count": 26,
      "id": "dcc35f70-25fc-48e1-92f8-8633b3b8be80",
      "metadata": {
        "colab": {
          "base_uri": "https://localhost:8080/"
        },
        "id": "dcc35f70-25fc-48e1-92f8-8633b3b8be80",
        "outputId": "67b9976f-04f5-4c4f-b36c-88fd48e9d433"
      },
      "outputs": [
        {
          "output_type": "stream",
          "name": "stderr",
          "text": [
            "\r  0%|          | 0/30 [00:00<?, ?it/s]"
          ]
        },
        {
          "output_type": "stream",
          "name": "stdout",
          "text": [
            "Epoch 0, Train loss: 0.6593504581186507, Acc: 0.608433734939759, F1-Macro: 0.6042835662155719\n"
          ]
        },
        {
          "output_type": "stream",
          "name": "stderr",
          "text": [
            "\r  3%|▎         | 1/30 [04:51<2:21:02, 291.80s/it]"
          ]
        },
        {
          "output_type": "stream",
          "name": "stdout",
          "text": [
            "Epoch 0, Val loss: 0.6394821852445602, Acc: 0.7692307692307693, F1-Macro: 0.767247553115302\n",
            "Epoch 1, Train loss: 0.5278331687053045, Acc: 0.7409638554216867, F1-Macro: 0.732642623291666\n"
          ]
        },
        {
          "output_type": "stream",
          "name": "stderr",
          "text": [
            "\r  7%|▋         | 2/30 [05:12<1:01:41, 132.19s/it]"
          ]
        },
        {
          "output_type": "stream",
          "name": "stdout",
          "text": [
            "Epoch 1, Val loss: 0.8139742016792297, Acc: 0.7846153846153846, F1-Macro: 0.782088122605364\n",
            "Early stopping counter 1/10\n",
            "Epoch 2, Train loss: 0.43271555337640977, Acc: 0.7882960413080895, F1-Macro: 0.7810066651344518\n",
            "Epoch 2, Val loss: 0.4949118494405411, Acc: 0.7692307692307693, F1-Macro: 0.7683535281539557\n",
            "Validation loss decreased 0.6394821852445602 -> 0.4949118494405411\n"
          ]
        },
        {
          "output_type": "stream",
          "name": "stderr",
          "text": [
            "\r 10%|█         | 3/30 [05:33<36:37, 81.39s/it]   "
          ]
        },
        {
          "output_type": "stream",
          "name": "stdout",
          "text": [
            "Epoch 3, Train loss: 0.3806023970246315, Acc: 0.802065404475043, F1-Macro: 0.7945670889189522\n"
          ]
        },
        {
          "output_type": "stream",
          "name": "stderr",
          "text": [
            "\r 13%|█▎        | 4/30 [05:53<24:51, 57.37s/it]"
          ]
        },
        {
          "output_type": "stream",
          "name": "stdout",
          "text": [
            "Epoch 3, Val loss: 2.5126712024211884, Acc: 0.7076923076923077, F1-Macro: 0.7065811356616774\n",
            "Early stopping counter 1/10\n",
            "Epoch 4, Train loss: 0.39644243692358333, Acc: 0.7925989672977625, F1-Macro: 0.7817564876792737\n",
            "Epoch 4, Val loss: 0.48714333342650207, Acc: 0.8, F1-Macro: 0.799239724400095\n",
            "Validation loss decreased 0.4949118494405411 -> 0.48714333342650207\n"
          ]
        },
        {
          "output_type": "stream",
          "name": "stderr",
          "text": [
            "\r 17%|█▋        | 5/30 [06:14<18:25, 44.23s/it]"
          ]
        },
        {
          "output_type": "stream",
          "name": "stdout",
          "text": [
            "Epoch 5, Train loss: 0.3792852217124568, Acc: 0.8055077452667814, F1-Macro: 0.7963818727669711\n",
            "Epoch 5, Val loss: 0.4528545131906867, Acc: 0.7846153846153846, F1-Macro: 0.7841555977229602\n",
            "Validation loss decreased 0.48714333342650207 -> 0.4528545131906867\n"
          ]
        },
        {
          "output_type": "stream",
          "name": "stderr",
          "text": [
            "\r 20%|██        | 6/30 [06:35<14:31, 36.32s/it]"
          ]
        },
        {
          "output_type": "stream",
          "name": "stdout",
          "text": [
            "Epoch 6, Train loss: 0.30866778186625904, Acc: 0.8313253012048193, F1-Macro: 0.824322364665772\n"
          ]
        },
        {
          "output_type": "stream",
          "name": "stderr",
          "text": [
            "\r 23%|██▎       | 7/30 [06:56<11:56, 31.15s/it]"
          ]
        },
        {
          "output_type": "stream",
          "name": "stdout",
          "text": [
            "Epoch 6, Val loss: 0.7223773620498832, Acc: 0.7692307692307693, F1-Macro: 0.7656813266041818\n",
            "Early stopping counter 1/10\n",
            "Epoch 7, Train loss: 0.32727886239687604, Acc: 0.8123924268502581, F1-Macro: 0.8031335001632032\n"
          ]
        },
        {
          "output_type": "stream",
          "name": "stderr",
          "text": [
            "\r 27%|██▋       | 8/30 [07:20<10:40, 29.12s/it]"
          ]
        },
        {
          "output_type": "stream",
          "name": "stdout",
          "text": [
            "Epoch 7, Val loss: 0.7586017996072769, Acc: 0.7538461538461538, F1-Macro: 0.7533206831119545\n",
            "Early stopping counter 2/10\n",
            "Epoch 8, Train loss: 0.2822975131372611, Acc: 0.8407917383820999, F1-Macro: 0.8340024354855027\n"
          ]
        },
        {
          "output_type": "stream",
          "name": "stderr",
          "text": [
            "\r 30%|███       | 9/30 [07:41<09:13, 26.38s/it]"
          ]
        },
        {
          "output_type": "stream",
          "name": "stdout",
          "text": [
            "Epoch 8, Val loss: 1.4578430205583572, Acc: 0.7846153846153846, F1-Macro: 0.7845643939393939\n",
            "Early stopping counter 3/10\n",
            "Epoch 9, Train loss: 0.29610920573274296, Acc: 0.8330464716006885, F1-Macro: 0.8252127580389044\n"
          ]
        },
        {
          "output_type": "stream",
          "name": "stderr",
          "text": [
            "\r 33%|███▎      | 10/30 [08:02<08:15, 24.78s/it]"
          ]
        },
        {
          "output_type": "stream",
          "name": "stdout",
          "text": [
            "Epoch 9, Val loss: 0.9739053845405579, Acc: 0.6923076923076923, F1-Macro: 0.6886973180076628\n",
            "Early stopping counter 4/10\n",
            "Epoch 10, Train loss: 0.2847902961075306, Acc: 0.8416523235800344, F1-Macro: 0.8353118789764762\n"
          ]
        },
        {
          "output_type": "stream",
          "name": "stderr",
          "text": [
            "\r 37%|███▋      | 11/30 [08:26<07:45, 24.49s/it]"
          ]
        },
        {
          "output_type": "stream",
          "name": "stdout",
          "text": [
            "Epoch 10, Val loss: 0.5797924847111062, Acc: 0.8, F1-Macro: 0.7969238163902908\n",
            "Early stopping counter 5/10\n",
            "Epoch 11, Train loss: 0.2659207172691822, Acc: 0.8364888123924269, F1-Macro: 0.8293290043290044\n"
          ]
        },
        {
          "output_type": "stream",
          "name": "stderr",
          "text": [
            "\r 40%|████      | 12/30 [08:47<07:05, 23.61s/it]"
          ]
        },
        {
          "output_type": "stream",
          "name": "stdout",
          "text": [
            "Epoch 11, Val loss: 0.6750504742376506, Acc: 0.7538461538461538, F1-Macro: 0.7523809523809524\n",
            "Early stopping counter 6/10\n",
            "Epoch 12, Train loss: 0.28478859385682476, Acc: 0.8442340791738382, F1-Macro: 0.8382779129806268\n"
          ]
        },
        {
          "output_type": "stream",
          "name": "stderr",
          "text": [
            "\r 43%|████▎     | 13/30 [09:14<06:56, 24.49s/it]"
          ]
        },
        {
          "output_type": "stream",
          "name": "stdout",
          "text": [
            "Epoch 12, Val loss: 0.7354085594415665, Acc: 0.8307692307692308, F1-Macro: 0.8266666666666667\n",
            "Early stopping counter 7/10\n",
            "Epoch 13, Train loss: 0.25894720400942284, Acc: 0.851118760757315, F1-Macro: 0.844881959635944\n"
          ]
        },
        {
          "output_type": "stream",
          "name": "stderr",
          "text": [
            "\r 47%|████▋     | 14/30 [09:34<06:11, 23.25s/it]"
          ]
        },
        {
          "output_type": "stream",
          "name": "stdout",
          "text": [
            "Epoch 13, Val loss: 0.5239318534731865, Acc: 0.7846153846153846, F1-Macro: 0.7841555977229602\n",
            "Early stopping counter 8/10\n",
            "Epoch 14, Train loss: 0.2868936343325509, Acc: 0.8390705679862306, F1-Macro: 0.8328017672871819\n"
          ]
        },
        {
          "output_type": "stream",
          "name": "stderr",
          "text": [
            "\r 50%|█████     | 15/30 [09:55<05:35, 22.38s/it]"
          ]
        },
        {
          "output_type": "stream",
          "name": "stdout",
          "text": [
            "Epoch 14, Val loss: 0.5730949195931316, Acc: 0.8307692307692308, F1-Macro: 0.8293148722845548\n",
            "Early stopping counter 9/10\n",
            "Epoch 15, Train loss: 0.2570650345749325, Acc: 0.8450946643717728, F1-Macro: 0.8386633961216272\n"
          ]
        },
        {
          "output_type": "stream",
          "name": "stderr",
          "text": [
            "\r 50%|█████     | 15/30 [10:15<10:15, 41.04s/it]"
          ]
        },
        {
          "output_type": "stream",
          "name": "stdout",
          "text": [
            "Epoch 15, Val loss: 0.5185891722212546, Acc: 0.7846153846153846, F1-Macro: 0.7845643939393939\n",
            "Early stopping counter 10/10\n",
            "Early stopped\n"
          ]
        },
        {
          "output_type": "stream",
          "name": "stderr",
          "text": [
            "\n"
          ]
        }
      ],
      "source": [
        "for epoch_index in tqdm(range(EPOCHS)):\n",
        "\n",
        "    trainer.train_epoch(train_dataloader, epoch_index)\n",
        "    trainer.validate_epoch(validation_dataloader, epoch_index)\n",
        "\n",
        "    # early_stopping check\n",
        "    early_stopper.check_early_stopping(loss=trainer.val_mean_loss)\n",
        "\n",
        "    if early_stopper.stop:\n",
        "        print('Early stopped')\n",
        "        break\n",
        "\n",
        "    if early_stopper.save_model:\n",
        "        check_point = {\n",
        "            'model': model.state_dict(),\n",
        "            'optimizer': optimizer.state_dict(),\n",
        "            'scheduler': scheduler.state_dict()\n",
        "        }\n",
        "        torch.save(check_point, 'vgg.pt')\n",
        "        early_stopper.save_model = False\n"
      ]
    },
    {
      "cell_type": "code",
      "source": [
        "#Loss 확인\n",
        "import matplotlib.pyplot as plt\n",
        "plt.plot(running_loss_history, label='training loss')\n",
        "plt.plot(val_running_loss_history, label='validation loss')\n",
        "plt.legend()"
      ],
      "metadata": {
        "id": "yF7Tgvh4iOn-",
        "colab": {
          "base_uri": "https://localhost:8080/",
          "height": 283
        },
        "outputId": "3cb73998-9e53-4d21-c5a2-5e6417a8f73e"
      },
      "id": "yF7Tgvh4iOn-",
      "execution_count": 27,
      "outputs": [
        {
          "output_type": "execute_result",
          "data": {
            "text/plain": [
              "<matplotlib.legend.Legend at 0x7fc2e8667810>"
            ]
          },
          "metadata": {},
          "execution_count": 27
        },
        {
          "output_type": "display_data",
          "data": {
            "image/png": "[encoded data removed]",
            "text/plain": [
              "<Figure size 432x288 with 1 Axes>"
            ]
          },
          "metadata": {
            "needs_background": "light"
          }
        }
      ]
    },
    {
      "cell_type": "code",
      "source": [
        "#acc 확인\n",
        "plt.plot(running_corrects_history, label='training acc')\n",
        "plt.plot(val_running_corrects_history, label='validation acc')\n",
        "plt.legend()"
      ],
      "metadata": {
        "id": "JS6DBerNiPv9",
        "colab": {
          "base_uri": "https://localhost:8080/",
          "height": 283
        },
        "outputId": "373d5ba6-30c5-408b-a890-42b073ce1c4e"
      },
      "id": "JS6DBerNiPv9",
      "execution_count": 28,
      "outputs": [
        {
          "output_type": "execute_result",
          "data": {
            "text/plain": [
              "<matplotlib.legend.Legend at 0x7fc2e85d78d0>"
            ]
          },
          "metadata": {},
          "execution_count": 28
        },
        {
          "output_type": "display_data",
          "data": {
            "image/png": "[encoded data removed]",
            "text/plain": [
              "<Figure size 432x288 with 1 Axes>"
            ]
          },
          "metadata": {
            "needs_background": "light"
          }
        }
      ]
    },
    {
      "cell_type": "markdown",
      "id": "fe53514a-e83f-4795-9589-640f26cc2993",
      "metadata": {
        "id": "fe53514a-e83f-4795-9589-640f26cc2993"
      },
      "source": [
        "## Inference\n",
        "### 모델 로드"
      ]
    },
    {
      "cell_type": "code",
      "execution_count": 29,
      "id": "6729cfde-c4b3-4d36-938e-f8bb8d8afef3",
      "metadata": {
        "id": "6729cfde-c4b3-4d36-938e-f8bb8d8afef3"
      },
      "outputs": [],
      "source": [
        "TRAINED_MODEL_PATH = 'vgg.pt'"
      ]
    },
    {
      "cell_type": "markdown",
      "id": "75bbba92-b53c-499f-b5f9-b6ac3edde331",
      "metadata": {
        "id": "75bbba92-b53c-499f-b5f9-b6ac3edde331"
      },
      "source": [
        "### Load dataset"
      ]
    },
    {
      "cell_type": "code",
      "execution_count": 30,
      "id": "ced90de9-50ec-4e18-9f42-5a1b493941a5",
      "metadata": {
        "id": "ced90de9-50ec-4e18-9f42-5a1b493941a5"
      },
      "outputs": [],
      "source": [
        "class TestDataset(Dataset):\n",
        "    def __init__(self, data_dir, input_shape):\n",
        "        self.data_dir = data_dir\n",
        "        self.input_shape = input_shape\n",
        "        \n",
        "        # Loading dataset\n",
        "        self.db = self.data_loader()\n",
        "        \n",
        "        # Transform function\n",
        "        self.transform = transforms.Compose([transforms.Resize(self.input_shape),\n",
        "                                             transforms.ToTensor(),\n",
        "                                             transforms.Normalize([0.485, 0.456, 0.406], [0.229, 0.224, 0.225])])\n",
        "\n",
        "    def data_loader(self):\n",
        "        print('Loading test dataset..')\n",
        "        if not os.path.isdir(self.data_dir):\n",
        "            print(f'!!! Cannot find {self.data_dir}... !!!')\n",
        "            sys.exit()\n",
        "        \n",
        "        db = pd.read_csv(os.path.join(self.data_dir, 'sample_submission.csv'))\n",
        "        return db\n",
        "    \n",
        "    def __len__(self):\n",
        "        return len(self.db)\n",
        "    \n",
        "    def __getitem__(self, index):\n",
        "        data = copy.deepcopy(self.db.loc[index])\n",
        "        \n",
        "        # Loading image\n",
        "        cvimg = cv2.imread(os.path.join(self.data_dir,'test',data['file_name']), cv2.IMREAD_COLOR | cv2.IMREAD_IGNORE_ORIENTATION)\n",
        "        if not isinstance(cvimg, np.ndarray):\n",
        "            raise IOError(\"Fail to read %s\" % data['file_name'])\n",
        "\n",
        "        # Preprocessing images\n",
        "        trans_image = self.transform(Image.fromarray(cvimg))\n",
        "\n",
        "        return trans_image, data['file_name']"
      ]
    },
    {
      "cell_type": "code",
      "execution_count": 31,
      "id": "cdd31a3d-08cd-48fc-87b0-137976d4d4bb",
      "metadata": {
        "id": "cdd31a3d-08cd-48fc-87b0-137976d4d4bb",
        "colab": {
          "base_uri": "https://localhost:8080/"
        },
        "outputId": "d84fb1df-dca4-49a5-887a-1cbd615d4c64"
      },
      "outputs": [
        {
          "output_type": "stream",
          "name": "stdout",
          "text": [
            "Loading test dataset..\n"
          ]
        }
      ],
      "source": [
        "# Load dataset & dataloader\n",
        "test_DATA_DIR = '/content/drive/MyDrive/모의경진대회/흉부 CT를 이용한 데이터 분석/data'\n",
        "test_dataset = TestDataset(data_dir=test_DATA_DIR, input_shape=INPUT_SHAPE)\n",
        "test_dataloader = DataLoader(dataset=test_dataset, batch_size=BATCH_SIZE, shuffle=False)"
      ]
    },
    {
      "cell_type": "markdown",
      "id": "53efd72b-172d-4e34-a1dd-65ed8c745b58",
      "metadata": {
        "id": "53efd72b-172d-4e34-a1dd-65ed8c745b58"
      },
      "source": [
        "### 추론 진행"
      ]
    },
    {
      "cell_type": "code",
      "source": [
        "model.load_state_dict(torch.load(TRAINED_MODEL_PATH)['model'])\n",
        "\n",
        "train_actual = []\n",
        "validation_actual = []\n",
        "train_pred_lst = []\n",
        "validation_pred_lst = []\n",
        "\n",
        "# train\n",
        "model.eval()\n",
        "with torch.no_grad():\n",
        "    for batch_index, (img, label) in tqdm(enumerate(train_dataloader)):\n",
        "        img = img.to(DEVICE)\n",
        "        pred = model(img)\n",
        "        train_actual += (list(label.numpy()))\n",
        "        train_pred_lst.extend(pred.argmax(dim=1).tolist())\n",
        "\n",
        "# valid\n",
        "with torch.no_grad():\n",
        "    for batch_index, (img, label) in tqdm(enumerate(validation_dataloader)):\n",
        "        img = img.to(DEVICE)\n",
        "        pred = model(img)\n",
        "        validation_actual += (list(label.numpy()))\n",
        "        validation_pred_lst.extend(pred.argmax(dim=1).tolist())\n",
        "\n",
        "\n",
        "# test\n",
        "file_lst = []\n",
        "pred_lst = []\n",
        "prob_lst = []\n",
        "with torch.no_grad():\n",
        "    for batch_index, (img, file_num) in tqdm(enumerate(test_dataloader)):\n",
        "        img = img.to(DEVICE)\n",
        "        pred = model(img)\n",
        "        file_lst.extend(list(file_num))\n",
        "        pred_lst.extend(pred.argmax(dim=1).tolist())\n",
        "        prob_lst.extend(pred[:, 1].tolist())"
      ],
      "metadata": {
        "id": "p_NmvGC8S8SO",
        "colab": {
          "base_uri": "https://localhost:8080/"
        },
        "outputId": "c5332c97-af66-48e2-d66e-cda2e36fb67c"
      },
      "id": "p_NmvGC8S8SO",
      "execution_count": 32,
      "outputs": [
        {
          "output_type": "stream",
          "name": "stderr",
          "text": [
            "37it [00:15,  2.44it/s]\n",
            "3it [00:00,  4.18it/s]\n",
            "4it [00:40, 10.03s/it]\n"
          ]
        }
      ]
    },
    {
      "cell_type": "code",
      "source": [
        "# 평가 함수 정의\n",
        "import seaborn as sns\n",
        "import sklearn.metrics as metrics\n",
        "from sklearn.metrics import accuracy_score, precision_score, recall_score, f1_score, roc_auc_score, roc_curve, auc, confusion_matrix\n",
        "\n",
        "def get_clf_eval(y_actual, y_pred):\n",
        "    accuracy = accuracy_score(y_actual, y_pred)\n",
        "    precision = precision_score(y_actual, y_pred)\n",
        "    recall = recall_score(y_actual, y_pred)\n",
        "    AUC = roc_auc_score(y_actual, y_pred)\n",
        "    F1 = f1_score(y_actual, y_pred, average='macro')\n",
        "    print('\\n정확도: {:.4f}'.format(accuracy))\n",
        "    print('정밀도: {:.4f}'.format(precision))\n",
        "    print('재현율: {:.4f}'.format(recall))\n",
        "    print('AUC: {:.4f}'.format(AUC))\n",
        "    print('F1: {:.4f}'.format(F1))\n",
        "    \n",
        "    sns.heatmap(confusion_matrix(y_actual, y_pred), annot=True, fmt='d', cmap='YlGnBu')"
      ],
      "metadata": {
        "id": "8vhLQMX-TkAN"
      },
      "id": "8vhLQMX-TkAN",
      "execution_count": 33,
      "outputs": []
    },
    {
      "cell_type": "code",
      "source": [
        "get_clf_eval(train_actual, train_pred_lst) # train set\n",
        "get_clf_eval(validation_actual, validation_pred_lst) # validation set"
      ],
      "metadata": {
        "id": "RnrgquLVS9r1",
        "colab": {
          "base_uri": "https://localhost:8080/",
          "height": 485
        },
        "outputId": "37886317-c21a-4661-d530-7d98ec25ebbb"
      },
      "id": "RnrgquLVS9r1",
      "execution_count": 34,
      "outputs": [
        {
          "output_type": "stream",
          "name": "stdout",
          "text": [
            "\n",
            "정확도: 0.8236\n",
            "정밀도: 0.9288\n",
            "재현율: 0.6734\n",
            "AUC: 0.8141\n",
            "F1: 0.8166\n",
            "\n",
            "정확도: 0.7846\n",
            "정밀도: 0.7714\n",
            "재현율: 0.8182\n",
            "AUC: 0.7841\n",
            "F1: 0.7842\n"
          ]
        },
        {
          "output_type": "display_data",
          "data": {
            "image/png": "[encoded data removed]",
            "text/plain": [
              "<Figure size 432x288 with 3 Axes>"
            ]
          },
          "metadata": {
            "needs_background": "light"
          }
        }
      ]
    },
    {
      "cell_type": "markdown",
      "id": "056169d1-64a8-4b81-8daf-722b029cf2b9",
      "metadata": {
        "id": "056169d1-64a8-4b81-8daf-722b029cf2b9"
      },
      "source": [
        "### 결과 저장"
      ]
    },
    {
      "cell_type": "code",
      "execution_count": 35,
      "id": "f133cd86-b87b-4f8b-ae0e-c240655ae9ff",
      "metadata": {
        "id": "f133cd86-b87b-4f8b-ae0e-c240655ae9ff"
      },
      "outputs": [],
      "source": [
        "# df = pd.DataFrame({'file_name':file_lst, 'COVID':pred_lst})\n",
        "# # df.sort_values(by=['file_name'], inplace=True)\n",
        "# df.to_csv('/content/drive/MyDrive/모의경진대회/흉부 CT를 이용한 데이터 분석/data2/vgg13_prediction2.csv', index=False)"
      ]
    }
  ],
  "metadata": {
    "kernelspec": {
      "display_name": "Python 3 (ipykernel)",
      "language": "python",
      "name": "python3"
    },
    "language_info": {
      "codemirror_mode": {
        "name": "ipython",
        "version": 3
      },
      "file_extension": ".py",
      "mimetype": "text/x-python",
      "name": "python",
      "nbconvert_exporter": "python",
      "pygments_lexer": "ipython3",
      "version": "3.8.5"
    },
    "colab": {
      "name": "batchnorm_vgg16.ipynb",
      "provenance": [],
      "collapsed_sections": []
    },
    "accelerator": "GPU"
  },
  "nbformat": 4,
  "nbformat_minor": 5
}